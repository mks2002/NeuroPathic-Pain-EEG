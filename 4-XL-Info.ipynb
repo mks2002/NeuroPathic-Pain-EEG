{
 "cells": [
  {
   "cell_type": "code",
   "execution_count": 1,
   "id": "cab3e02d",
   "metadata": {},
   "outputs": [],
   "source": [
    "import numpy as np\n",
    "import pandas as pd\n",
    "import matplotlib.pyplot as plt\n",
    "import seaborn as sns   \n"
   ]
  },
  {
   "cell_type": "code",
   "execution_count": 2,
   "id": "c5470a2e",
   "metadata": {},
   "outputs": [],
   "source": [
    "\n",
    "file_path = 'Pain-Dataset\\Demographics_Questionnaires_Dataset_v4.xlsx'\n",
    "df = pd.read_excel(file_path)\n"
   ]
  },
  {
   "cell_type": "code",
   "execution_count": 3,
   "id": "8e268418",
   "metadata": {},
   "outputs": [
    {
     "name": "stdout",
     "output_type": "stream",
     "text": [
      "Shape of the DataFrame: (40, 12)\n",
      "Columns: Index(['ID', 'Pain Score (Actual Pain of Brief Pain Inventory)', 'Age',\n",
      "       'Gender', 'Etiology of NP*', 'Time with NP', 'Medical treatment for NP',\n",
      "       'Since when have you use the previous medication?',\n",
      "       'Have you had any medical procedures to control the pain?',\n",
      "       'Do you go regularly to phsychological or emotional counseling sessions for your pain?',\n",
      "       'Do you suffer from any neurological disorder? (eg. epilepsy, Alzheimer, tinnitus)',\n",
      "       'Have you suffered any head traumatism? '],\n",
      "      dtype='object')\n"
     ]
    }
   ],
   "source": [
    "# Display basic information\n",
    "print(\"Shape of the DataFrame:\", df.shape)\n",
    "print(\"Columns:\", df.columns)\n",
    "\n"
   ]
  },
  {
   "cell_type": "code",
   "execution_count": 4,
   "id": "ebfe4695",
   "metadata": {},
   "outputs": [
    {
     "data": {
      "text/html": [
       "<div>\n",
       "<style scoped>\n",
       "    .dataframe tbody tr th:only-of-type {\n",
       "        vertical-align: middle;\n",
       "    }\n",
       "\n",
       "    .dataframe tbody tr th {\n",
       "        vertical-align: top;\n",
       "    }\n",
       "\n",
       "    .dataframe thead th {\n",
       "        text-align: right;\n",
       "    }\n",
       "</style>\n",
       "<table border=\"1\" class=\"dataframe\">\n",
       "  <thead>\n",
       "    <tr style=\"text-align: right;\">\n",
       "      <th></th>\n",
       "      <th>ID</th>\n",
       "      <th>Pain Score (Actual Pain of Brief Pain Inventory)</th>\n",
       "      <th>Age</th>\n",
       "      <th>Gender</th>\n",
       "      <th>Etiology of NP*</th>\n",
       "      <th>Time with NP</th>\n",
       "      <th>Medical treatment for NP</th>\n",
       "      <th>Since when have you use the previous medication?</th>\n",
       "      <th>Have you had any medical procedures to control the pain?</th>\n",
       "      <th>Do you go regularly to phsychological or emotional counseling sessions for your pain?</th>\n",
       "      <th>Do you suffer from any neurological disorder? (eg. epilepsy, Alzheimer, tinnitus)</th>\n",
       "      <th>Have you suffered any head traumatism?</th>\n",
       "    </tr>\n",
       "  </thead>\n",
       "  <tbody>\n",
       "    <tr>\n",
       "      <th>0</th>\n",
       "      <td>0</td>\n",
       "      <td>7.0</td>\n",
       "      <td>25.0</td>\n",
       "      <td>F</td>\n",
       "      <td>Central Nervous System Disorder (CRPS or Lyme)</td>\n",
       "      <td>More than 2 years</td>\n",
       "      <td>Pregabalin, amitriptyline</td>\n",
       "      <td>More than a year ago</td>\n",
       "      <td>Nerve blocks and infusions*</td>\n",
       "      <td>Yes</td>\n",
       "      <td>No</td>\n",
       "      <td>NaN</td>\n",
       "    </tr>\n",
       "    <tr>\n",
       "      <th>1</th>\n",
       "      <td>1</td>\n",
       "      <td>4.0</td>\n",
       "      <td>57.0</td>\n",
       "      <td>F</td>\n",
       "      <td>Diabetes</td>\n",
       "      <td>More than 2 years</td>\n",
       "      <td>Tramadol</td>\n",
       "      <td>More than a month ago</td>\n",
       "      <td>NaN</td>\n",
       "      <td>No</td>\n",
       "      <td>No</td>\n",
       "      <td>NaN</td>\n",
       "    </tr>\n",
       "    <tr>\n",
       "      <th>2</th>\n",
       "      <td>2</td>\n",
       "      <td>3.0</td>\n",
       "      <td>20.0</td>\n",
       "      <td>F</td>\n",
       "      <td>Peripheral neuropathy</td>\n",
       "      <td>More than 2 years</td>\n",
       "      <td>Keterolac</td>\n",
       "      <td>More than a year ago</td>\n",
       "      <td>NaN</td>\n",
       "      <td>No</td>\n",
       "      <td>No</td>\n",
       "      <td>NaN</td>\n",
       "    </tr>\n",
       "    <tr>\n",
       "      <th>3</th>\n",
       "      <td>3</td>\n",
       "      <td>8.0</td>\n",
       "      <td>34.0</td>\n",
       "      <td>F</td>\n",
       "      <td>Spinal cord or nerve root injury</td>\n",
       "      <td>More than 2 years</td>\n",
       "      <td>Tramadol</td>\n",
       "      <td>More than a year ago</td>\n",
       "      <td>Physiotherapy</td>\n",
       "      <td>No</td>\n",
       "      <td>No</td>\n",
       "      <td>NaN</td>\n",
       "    </tr>\n",
       "    <tr>\n",
       "      <th>4</th>\n",
       "      <td>4</td>\n",
       "      <td>5.0</td>\n",
       "      <td>77.0</td>\n",
       "      <td>M</td>\n",
       "      <td>Spinal cord or nerve root injury</td>\n",
       "      <td>More than 2 years</td>\n",
       "      <td>NaN</td>\n",
       "      <td>NaN</td>\n",
       "      <td>NaN</td>\n",
       "      <td>No</td>\n",
       "      <td>No</td>\n",
       "      <td>Yes - more than 20 years ago</td>\n",
       "    </tr>\n",
       "  </tbody>\n",
       "</table>\n",
       "</div>"
      ],
      "text/plain": [
       "  ID  Pain Score (Actual Pain of Brief Pain Inventory)   Age Gender  \\\n",
       "0  0                                               7.0  25.0      F   \n",
       "1  1                                               4.0  57.0      F   \n",
       "2  2                                               3.0  20.0      F   \n",
       "3  3                                               8.0  34.0      F   \n",
       "4  4                                               5.0  77.0      M   \n",
       "\n",
       "                                  Etiology of NP*       Time with NP  \\\n",
       "0  Central Nervous System Disorder (CRPS or Lyme)  More than 2 years   \n",
       "1                                        Diabetes  More than 2 years   \n",
       "2                           Peripheral neuropathy  More than 2 years   \n",
       "3                Spinal cord or nerve root injury  More than 2 years   \n",
       "4                Spinal cord or nerve root injury  More than 2 years   \n",
       "\n",
       "    Medical treatment for NP Since when have you use the previous medication?  \\\n",
       "0  Pregabalin, amitriptyline                             More than a year ago   \n",
       "1                   Tramadol                            More than a month ago   \n",
       "2                  Keterolac                             More than a year ago   \n",
       "3                   Tramadol                             More than a year ago   \n",
       "4                        NaN                                              NaN   \n",
       "\n",
       "  Have you had any medical procedures to control the pain?  \\\n",
       "0                        Nerve blocks and infusions*         \n",
       "1                                                NaN         \n",
       "2                                                NaN         \n",
       "3                                      Physiotherapy         \n",
       "4                                                NaN         \n",
       "\n",
       "  Do you go regularly to phsychological or emotional counseling sessions for your pain?  \\\n",
       "0                                                Yes                                      \n",
       "1                                                 No                                      \n",
       "2                                                 No                                      \n",
       "3                                                 No                                      \n",
       "4                                                 No                                      \n",
       "\n",
       "  Do you suffer from any neurological disorder? (eg. epilepsy, Alzheimer, tinnitus)  \\\n",
       "0                                                 No                                  \n",
       "1                                                 No                                  \n",
       "2                                                 No                                  \n",
       "3                                                 No                                  \n",
       "4                                                 No                                  \n",
       "\n",
       "  Have you suffered any head traumatism?   \n",
       "0                                     NaN  \n",
       "1                                     NaN  \n",
       "2                                     NaN  \n",
       "3                                     NaN  \n",
       "4            Yes - more than 20 years ago  "
      ]
     },
     "execution_count": 4,
     "metadata": {},
     "output_type": "execute_result"
    }
   ],
   "source": [
    "df.head()"
   ]
  },
  {
   "cell_type": "code",
   "execution_count": 5,
   "id": "0037f339",
   "metadata": {},
   "outputs": [
    {
     "name": "stdout",
     "output_type": "stream",
     "text": [
      "\n",
      "Basic Info (Info):\n",
      "<class 'pandas.core.frame.DataFrame'>\n",
      "RangeIndex: 40 entries, 0 to 39\n",
      "Data columns (total 12 columns):\n",
      " #   Column                                                                                 Non-Null Count  Dtype  \n",
      "---  ------                                                                                 --------------  -----  \n",
      " 0   ID                                                                                     39 non-null     object \n",
      " 1   Pain Score (Actual Pain of Brief Pain Inventory)                                       36 non-null     float64\n",
      " 2   Age                                                                                    36 non-null     float64\n",
      " 3   Gender                                                                                 36 non-null     object \n",
      " 4   Etiology of NP*                                                                        36 non-null     object \n",
      " 5   Time with NP                                                                           36 non-null     object \n",
      " 6   Medical treatment for NP                                                               28 non-null     object \n",
      " 7   Since when have you use the previous medication?                                       30 non-null     object \n",
      " 8   Have you had any medical procedures to control the pain?                               14 non-null     object \n",
      " 9   Do you go regularly to phsychological or emotional counseling sessions for your pain?  36 non-null     object \n",
      " 10  Do you suffer from any neurological disorder? (eg. epilepsy, Alzheimer, tinnitus)      36 non-null     object \n",
      " 11  Have you suffered any head traumatism?                                                 1 non-null      object \n",
      "dtypes: float64(2), object(10)\n",
      "memory usage: 3.9+ KB\n"
     ]
    }
   ],
   "source": [
    "# Additional info\n",
    "print(\"\\nBasic Info (Info):\")\n",
    "df.info()"
   ]
  },
  {
   "cell_type": "code",
   "execution_count": 6,
   "id": "918dc231",
   "metadata": {},
   "outputs": [
    {
     "name": "stdout",
     "output_type": "stream",
     "text": [
      "Null values in each column:\n",
      "ID                                                                                        1\n",
      "Pain Score (Actual Pain of Brief Pain Inventory)                                          4\n",
      "Age                                                                                       4\n",
      "Gender                                                                                    4\n",
      "Etiology of NP*                                                                           4\n",
      "Time with NP                                                                              4\n",
      "Medical treatment for NP                                                                 12\n",
      "Since when have you use the previous medication?                                         10\n",
      "Have you had any medical procedures to control the pain?                                 26\n",
      "Do you go regularly to phsychological or emotional counseling sessions for your pain?     4\n",
      "Do you suffer from any neurological disorder? (eg. epilepsy, Alzheimer, tinnitus)         4\n",
      "Have you suffered any head traumatism?                                                   39\n",
      "dtype: int64\n"
     ]
    }
   ],
   "source": [
    "# Total null values in each column\n",
    "null_counts = df.isnull().sum()\n",
    "\n",
    "# Display the result\n",
    "print(\"Null values in each column:\")\n",
    "print(null_counts)\n"
   ]
  },
  {
   "cell_type": "code",
   "execution_count": 7,
   "id": "df6ee39c",
   "metadata": {},
   "outputs": [
    {
     "name": "stdout",
     "output_type": "stream",
     "text": [
      "Percentage of null values in each column:\n",
      "ID                                                                                        2.5\n",
      "Pain Score (Actual Pain of Brief Pain Inventory)                                         10.0\n",
      "Age                                                                                      10.0\n",
      "Gender                                                                                   10.0\n",
      "Etiology of NP*                                                                          10.0\n",
      "Time with NP                                                                             10.0\n",
      "Medical treatment for NP                                                                 30.0\n",
      "Since when have you use the previous medication?                                         25.0\n",
      "Have you had any medical procedures to control the pain?                                 65.0\n",
      "Do you go regularly to phsychological or emotional counseling sessions for your pain?    10.0\n",
      "Do you suffer from any neurological disorder? (eg. epilepsy, Alzheimer, tinnitus)        10.0\n",
      "Have you suffered any head traumatism?                                                   97.5\n",
      "dtype: float64\n"
     ]
    }
   ],
   "source": [
    "# Percentage of null values in each column\n",
    "null_percentage = (df.isnull().sum() / len(df)) * 100\n",
    "\n",
    "# Display the result\n",
    "print(\"Percentage of null values in each column:\")\n",
    "print(null_percentage)\n"
   ]
  },
  {
   "cell_type": "code",
   "execution_count": 9,
   "id": "409fe530",
   "metadata": {},
   "outputs": [
    {
     "name": "stdout",
     "output_type": "stream",
     "text": [
      "ID: 0 -> Pain Score: 7.0\n",
      "ID: 1 -> Pain Score: 4.0\n",
      "ID: 2 -> Pain Score: 3.0\n",
      "ID: 3 -> Pain Score: 8.0\n",
      "ID: 4 -> Pain Score: 5.0\n",
      "ID: 5 -> Pain Score: 2.0\n",
      "ID: 6 -> Pain Score: 7.0\n",
      "ID: 7 -> Pain Score: 3.0\n",
      "ID: 8 -> Pain Score: 4.0\n",
      "ID: 9 -> Pain Score: 9.0\n",
      "ID: 10 -> Pain Score: 3.0\n",
      "ID: 11 -> Pain Score: 6.0\n",
      "ID: 13 -> Pain Score: 3.0\n",
      "ID: 14 -> Pain Score: 3.0\n",
      "ID: 15 -> Pain Score: 8.0\n",
      "ID: 16 -> Pain Score: 5.0\n",
      "ID: 18 -> Pain Score: 5.0\n",
      "ID: 19 -> Pain Score: 8.0\n",
      "ID: 20 -> Pain Score: 7.0\n",
      "ID: 21 -> Pain Score: 6.0\n",
      "ID: 22 -> Pain Score: 7.0\n",
      "ID: 23 -> Pain Score: 6.0\n",
      "ID: 24 -> Pain Score: 9.0\n",
      "ID: 25 -> Pain Score: 8.0\n",
      "ID: 26 -> Pain Score: 0.0\n",
      "ID: 27 -> Pain Score: 1.0\n",
      "ID: 30 -> Pain Score: 3.0\n",
      "ID: 31 -> Pain Score: 9.0\n",
      "ID: 33 -> Pain Score: 6.0\n",
      "ID: 35 -> Pain Score: 1.0\n",
      "ID: 37 -> Pain Score: 0.0\n",
      "ID: 38 -> Pain Score: 7.0\n",
      "ID: 39 -> Pain Score: 8.0\n",
      "ID: 40 -> Pain Score: 4.0\n",
      "ID: 41 -> Pain Score: 7.0\n",
      "ID: 43 -> Pain Score: 6.0\n",
      "ID: nan -> Pain Score: nan\n",
      "ID: *NP is neuropathic pain  -> Pain Score: nan\n",
      "ID: *Infusions through IV, e.g., glylocaine or ketamine -> Pain Score: nan\n",
      "ID: F=Female, M=Male -> Pain Score: nan\n"
     ]
    }
   ],
   "source": [
    "# Create dictionary with ID as key and Pain Score as value\n",
    "pain_score_dict = dict(zip(\n",
    "    df['ID'],\n",
    "    df['Pain Score (Actual Pain of Brief Pain Inventory)']\n",
    "))\n",
    "\n",
    "# Display a few entries to verify\n",
    "for k, v in list(pain_score_dict.items()):  \n",
    "    print(f\"ID: {k} -> Pain Score: {v}\")"
   ]
  },
  {
   "cell_type": "code",
   "execution_count": 10,
   "id": "13f958e2",
   "metadata": {},
   "outputs": [
    {
     "name": "stdout",
     "output_type": "stream",
     "text": [
      "Unique values and their counts:\n",
      "Pain Score (Actual Pain of Brief Pain Inventory)\n",
      "7.0    6\n",
      "3.0    6\n",
      "8.0    5\n",
      "6.0    5\n",
      "NaN    4\n",
      "4.0    3\n",
      "5.0    3\n",
      "9.0    3\n",
      "0.0    2\n",
      "1.0    2\n",
      "2.0    1\n",
      "Name: count, dtype: int64\n"
     ]
    }
   ],
   "source": [
    "# Get unique values and their counts\n",
    "value_counts = df['Pain Score (Actual Pain of Brief Pain Inventory)'].value_counts(dropna=False)\n",
    "\n",
    "# Display the result\n",
    "print(\"Unique values and their counts:\")\n",
    "print(value_counts)\n"
   ]
  },
  {
   "cell_type": "code",
   "execution_count": null,
   "id": "6722bce0",
   "metadata": {},
   "outputs": [],
   "source": []
  }
 ],
 "metadata": {
  "kernelspec": {
   "display_name": "envfirst",
   "language": "python",
   "name": "python3"
  },
  "language_info": {
   "codemirror_mode": {
    "name": "ipython",
    "version": 3
   },
   "file_extension": ".py",
   "mimetype": "text/x-python",
   "name": "python",
   "nbconvert_exporter": "python",
   "pygments_lexer": "ipython3",
   "version": "3.11.8"
  }
 },
 "nbformat": 4,
 "nbformat_minor": 5
}
